{
 "cells": [
  {
   "cell_type": "code",
   "execution_count": 1,
   "metadata": {
    "colab": {},
    "colab_type": "code",
    "id": "FU9YdmfuROkd"
   },
   "outputs": [],
   "source": [
    "import librosa\n",
    "import wave\n",
    "import matplotlib.pyplot as plt\n",
    "import numpy as np\n",
    "from sklearn.model_selection import train_test_split\n",
    "import os"
   ]
  },
  {
   "cell_type": "code",
   "execution_count": 2,
   "metadata": {
    "colab": {},
    "colab_type": "code",
    "id": "BZE33onQnELr"
   },
   "outputs": [],
   "source": [
    "DATA_PATH = (\"./data/\")\n",
    "X_train = []\n",
    "X_test = []\n",
    "Y_train = []\n",
    "Y_test = []\n",
    "total_class = 0"
   ]
  },
  {
   "cell_type": "code",
   "execution_count": 6,
   "metadata": {
    "colab": {},
    "colab_type": "code",
    "id": "eSetyRMsnP__"
   },
   "outputs": [],
   "source": [
    "def load_wave_generator(path): \n",
    "       \n",
    "    batch_waves = []\n",
    "    labels = []\n",
    "    X_data = []\n",
    "    Y_label = []    \n",
    "    global X_train, X_test, Y_train, Y_test, total_class\n",
    "    \n",
    "    folders = os.listdir(path)\n",
    "\n",
    "    for folder in folders:\n",
    "        if not os.path.isdir(path):continue #폴더가 아니면 continue                   \n",
    "        files = os.listdir(path+\"/\"+folder)        \n",
    "        #폴더 이름과 그 폴더에 속하는 파일 갯수 출력\n",
    "        for wav in files:\n",
    "            if not wav.endswith(\".wav\"):continue\n",
    "            elif wav.endswith('.wav'):               \n",
    "                #print(\"Filename :\",wav)#.wav 파일이 아니면 continue\n",
    "                y, sr = librosa.load(path+\"/\"+folder+\"/\"+wav)\n",
    "                mfcc = librosa.feature.mfcc(y=y, sr=sr, n_mfcc=13, hop_length=int(sr*0.01),n_fft=int(sr*0.02)).T\n",
    "              \n",
    "                X_data.extend(mfcc)\n",
    "               # print(len(mfcc))\n",
    "                \n",
    "                label = [0 for i in range(len(folders))]\n",
    "                label[total_class] = 1\n",
    "                \n",
    "                for i in range(len(mfcc)):\n",
    "                    Y_label.append(label)\n",
    "                #print(Y_label)\n",
    "            else : \n",
    "                y, sr = librosa.load(path+\"/\"+folder+\"/\"+mp3)\n",
    "                mfcc = librosa.feature.mfcc(y=y, sr=sr, n_mfcc=13, hop_length=int(sr*0.01),n_fft=int(sr*0.02)).T\n",
    "              \n",
    "                X_data.extend(mfcc)\n",
    "               # print(len(mfcc))\n",
    "                \n",
    "                label = [0 for i in range(len(folders))]\n",
    "                label[total_class] = 1\n",
    "                \n",
    "                for i in range(len(mfcc)):\n",
    "                    Y_label.append(label)\n",
    "        total_class = total_class+1\n",
    "    #end loop\n",
    "#     print(\"X_data :\",np.shape(X_data))\n",
    "#     print(\"Y_label :\",np.shape(Y_label))\n",
    "    X_train, X_test, Y_train, Y_test = train_test_split(np.array(X_data), np.array(Y_label))\n",
    "\n",
    "    xy = (X_train, X_test, Y_train, Y_test)\n",
    "    np.save(\"./data.npy\",xy)\n"
   ]
  },
  {
   "cell_type": "code",
   "execution_count": 7,
   "metadata": {
    "colab": {
     "base_uri": "https://localhost:8080/",
     "height": 251
    },
    "colab_type": "code",
    "id": "0LZUxL0xROkr",
    "outputId": "3cfceda4-224d-4b4c-927e-acd715c3320f",
    "scrolled": true
   },
   "outputs": [
    {
     "name": "stdout",
     "output_type": "stream",
     "text": [
      "8 개의 클래스\n"
     ]
    }
   ],
   "source": [
    "total_class = 0\n",
    "\n",
    "load_wave_generator(DATA_PATH)\n",
    "\n",
    "print(total_class,\"개의 클래스\")"
   ]
  },
  {
   "cell_type": "code",
   "execution_count": 8,
   "metadata": {},
   "outputs": [],
   "source": [
    "from sklearn.model_selection import train_test_split"
   ]
  },
  {
   "cell_type": "code",
   "execution_count": 9,
   "metadata": {},
   "outputs": [
    {
     "name": "stdout",
     "output_type": "stream",
     "text": [
      "X_train : (59663, 13)\n",
      "Y_train : (59663, 8)\n",
      "X_test : (15911, 13)\n",
      "Y_test : (15911, 8)\n",
      "X_val : (3977, 13)\n",
      "Y_val : (3977, 8)\n"
     ]
    }
   ],
   "source": [
    "X_val, X_test, Y_val, Y_test = train_test_split(X_test,Y_test,test_size = 0.8, random_state = 1)\n",
    "\n",
    "\n",
    "print(\"X_train :\",np.shape(X_train))\n",
    "print(\"Y_train :\",np.shape(Y_train))\n",
    "print(\"X_test :\",np.shape(X_test))\n",
    "print(\"Y_test :\",np.shape(Y_test))\n",
    "print(\"X_val :\",np.shape(X_val))\n",
    "print(\"Y_val :\",np.shape(Y_val))"
   ]
  },
  {
   "cell_type": "code",
   "execution_count": 10,
   "metadata": {
    "colab": {
     "base_uri": "https://localhost:8080/",
     "height": 1000
    },
    "colab_type": "code",
    "id": "neHIhweMROkt",
    "outputId": "2e1bc0fa-70b8-4ea9-a986-ff3b4fc28450",
    "scrolled": true
   },
   "outputs": [],
   "source": [
    "from keras.models import Sequential, load_model\n",
    "from keras.layers import Dense, Dropout\n",
    "from keras.optimizers import Adam"
   ]
  },
  {
   "cell_type": "code",
   "execution_count": 11,
   "metadata": {},
   "outputs": [],
   "source": [
    "np.random.seed(777)\n",
    "\n",
    "model = Sequential()\n",
    "\n",
    "model.add(Dense(256,input_shape=(13,), activation = 'relu'))\n",
    "\n",
    "model.add(Dense(512, activation = 'relu'))\n",
    "model.add(Dropout(0.5))\n",
    "\n",
    "model.add(Dense(256,activation = 'relu'))\n",
    "model.add(Dropout(0.4))\n",
    "\n",
    "model.add(Dense(128, activation = 'relu'))\n",
    "model.add(Dropout(0.4))\n",
    "\n",
    "model.add(Dense(64,activation = 'relu'))\n",
    "model.add(Dropout(0.3))\n",
    "\n",
    "model.add(Dense(32,activation = 'relu'))\n",
    "model.add(Dropout(0.3))\n",
    "\n",
    "model.add(Dense(total_class,activation='softmax'))"
   ]
  },
  {
   "cell_type": "code",
   "execution_count": 12,
   "metadata": {
    "scrolled": true
   },
   "outputs": [
    {
     "name": "stdout",
     "output_type": "stream",
     "text": [
      "Model: \"sequential\"\n",
      "_________________________________________________________________\n",
      "Layer (type)                 Output Shape              Param #   \n",
      "=================================================================\n",
      "dense (Dense)                (None, 256)               3584      \n",
      "_________________________________________________________________\n",
      "dense_1 (Dense)              (None, 512)               131584    \n",
      "_________________________________________________________________\n",
      "dropout (Dropout)            (None, 512)               0         \n",
      "_________________________________________________________________\n",
      "dense_2 (Dense)              (None, 256)               131328    \n",
      "_________________________________________________________________\n",
      "dropout_1 (Dropout)          (None, 256)               0         \n",
      "_________________________________________________________________\n",
      "dense_3 (Dense)              (None, 128)               32896     \n",
      "_________________________________________________________________\n",
      "dropout_2 (Dropout)          (None, 128)               0         \n",
      "_________________________________________________________________\n",
      "dense_4 (Dense)              (None, 64)                8256      \n",
      "_________________________________________________________________\n",
      "dropout_3 (Dropout)          (None, 64)                0         \n",
      "_________________________________________________________________\n",
      "dense_5 (Dense)              (None, 32)                2080      \n",
      "_________________________________________________________________\n",
      "dropout_4 (Dropout)          (None, 32)                0         \n",
      "_________________________________________________________________\n",
      "dense_6 (Dense)              (None, 8)                 264       \n",
      "=================================================================\n",
      "Total params: 309,992\n",
      "Trainable params: 309,992\n",
      "Non-trainable params: 0\n",
      "_________________________________________________________________\n",
      "Epoch 1/35\n",
      "1865/1865 [==============================] - 5s 3ms/step - loss: 0.7454 - accuracy: 0.1836 - val_loss: 0.3254 - val_accuracy: 0.3457\n",
      "Epoch 2/35\n",
      "1865/1865 [==============================] - 5s 3ms/step - loss: 0.3193 - accuracy: 0.3336 - val_loss: 0.2798 - val_accuracy: 0.4491\n",
      "Epoch 3/35\n",
      "1865/1865 [==============================] - 5s 3ms/step - loss: 0.2901 - accuracy: 0.4287 - val_loss: 0.2594 - val_accuracy: 0.5167\n",
      "Epoch 4/35\n",
      "1865/1865 [==============================] - 7s 4ms/step - loss: 0.2678 - accuracy: 0.4973 - val_loss: 0.2326 - val_accuracy: 0.5909\n",
      "Epoch 5/35\n",
      "1865/1865 [==============================] - 7s 3ms/step - loss: 0.2465 - accuracy: 0.5609 - val_loss: 0.2115 - val_accuracy: 0.6452\n",
      "Epoch 6/35\n",
      "1865/1865 [==============================] - 6s 3ms/step - loss: 0.2293 - accuracy: 0.6046 - val_loss: 0.2000 - val_accuracy: 0.6656\n",
      "Epoch 7/35\n",
      "1865/1865 [==============================] - 6s 3ms/step - loss: 0.2165 - accuracy: 0.6382 - val_loss: 0.1924 - val_accuracy: 0.7063\n",
      "Epoch 8/35\n",
      "1865/1865 [==============================] - 8s 4ms/step - loss: 0.2076 - accuracy: 0.6600 - val_loss: 0.1737 - val_accuracy: 0.7367\n",
      "Epoch 9/35\n",
      "1865/1865 [==============================] - 7s 4ms/step - loss: 0.2012 - accuracy: 0.6718 - val_loss: 0.1750 - val_accuracy: 0.7393\n",
      "Epoch 10/35\n",
      "1865/1865 [==============================] - 6s 3ms/step - loss: 0.1963 - accuracy: 0.6878 - val_loss: 0.1708 - val_accuracy: 0.7408\n",
      "Epoch 11/35\n",
      "1865/1865 [==============================] - 7s 4ms/step - loss: 0.1922 - accuracy: 0.6922 - val_loss: 0.1663 - val_accuracy: 0.7460\n",
      "Epoch 12/35\n",
      "1865/1865 [==============================] - 5s 3ms/step - loss: 0.1889 - accuracy: 0.7008 - val_loss: 0.1626 - val_accuracy: 0.7541\n",
      "Epoch 13/35\n",
      "1865/1865 [==============================] - 6s 3ms/step - loss: 0.1862 - accuracy: 0.7093 - val_loss: 0.1616 - val_accuracy: 0.7483\n",
      "Epoch 14/35\n",
      "1865/1865 [==============================] - 5s 3ms/step - loss: 0.1834 - accuracy: 0.7131 - val_loss: 0.1630 - val_accuracy: 0.7536\n",
      "Epoch 15/35\n",
      "1865/1865 [==============================] - 5s 3ms/step - loss: 0.1821 - accuracy: 0.7151 - val_loss: 0.1621 - val_accuracy: 0.7624\n",
      "Epoch 16/35\n",
      "1865/1865 [==============================] - 5s 3ms/step - loss: 0.1792 - accuracy: 0.7195 - val_loss: 0.1566 - val_accuracy: 0.7629\n",
      "Epoch 17/35\n",
      "1865/1865 [==============================] - 7s 4ms/step - loss: 0.1801 - accuracy: 0.7162 - val_loss: 0.1511 - val_accuracy: 0.7734\n",
      "Epoch 18/35\n",
      "1865/1865 [==============================] - 6s 3ms/step - loss: 0.1772 - accuracy: 0.7256 - val_loss: 0.1738 - val_accuracy: 0.7420\n",
      "Epoch 19/35\n",
      "1865/1865 [==============================] - 6s 3ms/step - loss: 0.1767 - accuracy: 0.7271 - val_loss: 0.1556 - val_accuracy: 0.7657\n",
      "Epoch 20/35\n",
      "1865/1865 [==============================] - 5s 3ms/step - loss: 0.1762 - accuracy: 0.7264 - val_loss: 0.1552 - val_accuracy: 0.7707\n",
      "Epoch 21/35\n",
      "1865/1865 [==============================] - 6s 3ms/step - loss: 0.1734 - accuracy: 0.7304 - val_loss: 0.1505 - val_accuracy: 0.7757\n",
      "Epoch 22/35\n",
      "1865/1865 [==============================] - 6s 3ms/step - loss: 0.1727 - accuracy: 0.7323 - val_loss: 0.1480 - val_accuracy: 0.7812\n",
      "Epoch 23/35\n",
      "1865/1865 [==============================] - 6s 3ms/step - loss: 0.1728 - accuracy: 0.7331 - val_loss: 0.1495 - val_accuracy: 0.7797\n",
      "Epoch 24/35\n",
      "1865/1865 [==============================] - 5s 3ms/step - loss: 0.1715 - accuracy: 0.7378 - val_loss: 0.1459 - val_accuracy: 0.7787\n",
      "Epoch 25/35\n",
      "1865/1865 [==============================] - 7s 4ms/step - loss: 0.1708 - accuracy: 0.7383 - val_loss: 0.1530 - val_accuracy: 0.7737\n",
      "Epoch 26/35\n",
      "1865/1865 [==============================] - 6s 3ms/step - loss: 0.1704 - accuracy: 0.7395 - val_loss: 0.1521 - val_accuracy: 0.7750\n",
      "Epoch 27/35\n",
      "1865/1865 [==============================] - 6s 3ms/step - loss: 0.1715 - accuracy: 0.7361 - val_loss: 0.1438 - val_accuracy: 0.7910\n",
      "Epoch 28/35\n",
      "1865/1865 [==============================] - 7s 4ms/step - loss: 0.1706 - accuracy: 0.7399 - val_loss: 0.1445 - val_accuracy: 0.7883\n",
      "Epoch 29/35\n",
      "1865/1865 [==============================] - 5s 3ms/step - loss: 0.1712 - accuracy: 0.7370 - val_loss: 0.1447 - val_accuracy: 0.7878\n",
      "Epoch 30/35\n",
      "1865/1865 [==============================] - 6s 3ms/step - loss: 0.1674 - accuracy: 0.7445 - val_loss: 0.1469 - val_accuracy: 0.7777\n",
      "Epoch 31/35\n",
      "1865/1865 [==============================] - 6s 3ms/step - loss: 0.1698 - accuracy: 0.7375 - val_loss: 0.1461 - val_accuracy: 0.7828\n",
      "Epoch 32/35\n",
      "1865/1865 [==============================] - 6s 3ms/step - loss: 0.1677 - accuracy: 0.7448 - val_loss: 0.1457 - val_accuracy: 0.7863\n",
      "Epoch 33/35\n",
      "1865/1865 [==============================] - 6s 3ms/step - loss: 0.1675 - accuracy: 0.7458 - val_loss: 0.1435 - val_accuracy: 0.7931\n",
      "Epoch 34/35\n",
      "1865/1865 [==============================] - 6s 3ms/step - loss: 0.1668 - accuracy: 0.7461 - val_loss: 0.1429 - val_accuracy: 0.7890\n",
      "Epoch 35/35\n",
      "1865/1865 [==============================] - 6s 3ms/step - loss: 0.1693 - accuracy: 0.7397 - val_loss: 0.1457 - val_accuracy: 0.7873\n"
     ]
    }
   ],
   "source": [
    "model.compile(loss='binary_crossentropy',optimizer = 'Adam',metrics=['accuracy'])\n",
    "model.summary()\n",
    "trained_model = model.fit(X_train, Y_train,\n",
    "          batch_size=32,\n",
    "          epochs=35,\n",
    "          validation_data=(X_val, Y_val),\n",
    "          shuffle=True)"
   ]
  },
  {
   "cell_type": "code",
   "execution_count": 13,
   "metadata": {
    "colab": {
     "base_uri": "https://localhost:8080/",
     "height": 35
    },
    "colab_type": "code",
    "id": "pCnSi3TyROky",
    "outputId": "6ec355c7-f356-47d5-aec6-95a437d13bee"
   },
   "outputs": [],
   "source": [
    "model.save_weights(\"model0915.h5\")"
   ]
  },
  {
   "cell_type": "code",
   "execution_count": 14,
   "metadata": {},
   "outputs": [],
   "source": [
    "model.load_weights(\"model0915.h5\")"
   ]
  },
  {
   "cell_type": "code",
   "execution_count": 15,
   "metadata": {},
   "outputs": [
    {
     "name": "stdout",
     "output_type": "stream",
     "text": [
      "498/498 [==============================] - 0s 886us/step - loss: 0.1512 - accuracy: 0.7728\n"
     ]
    }
   ],
   "source": [
    "res = model.evaluate(X_test, Y_test)"
   ]
  },
  {
   "cell_type": "code",
   "execution_count": 17,
   "metadata": {
    "colab": {
     "base_uri": "https://localhost:8080/",
     "height": 215
    },
    "colab_type": "code",
    "id": "xAUmFVmEROk0",
    "outputId": "75d97241-425b-4cd6-a3f5-1e26fa550e93",
    "scrolled": true
   },
   "outputs": [],
   "source": [
    "y, sr = librosa.load(os.path.join(\"./test_유진.wav\"))\n",
    "\n",
    "X_test = librosa.feature.mfcc(y=y, sr=sr, n_mfcc=13, hop_length=int(sr*0.01),n_fft=int(sr*0.02)).T\n",
    "\n",
    "output = model.predict(X_test, steps =1)"
   ]
  },
  {
   "cell_type": "code",
   "execution_count": 18,
   "metadata": {},
   "outputs": [
    {
     "name": "stdout",
     "output_type": "stream",
     "text": [
      "result :  7\n"
     ]
    }
   ],
   "source": [
    "'''\n",
    "0 유인나\n",
    "1 배철수\n",
    "2 이재은\n",
    "3 최일구\n",
    "4 문재인 대통령\n",
    "5 청하\n",
    "6 정국\n",
    "7 나\n",
    "'''\n",
    "\n",
    "res = np.sum(output, axis = 0)/np.sum(output)*100\n",
    "\n",
    "if np.max(res) > 50 :\n",
    "    print(\"result : \",np.argmax(res))\n",
    "else :\n",
    "    print(\"no result\")\n",
    "    print(res)"
   ]
  },
  {
   "cell_type": "code",
   "execution_count": null,
   "metadata": {},
   "outputs": [],
   "source": []
  }
 ],
 "metadata": {
  "accelerator": "GPU",
  "colab": {
   "collapsed_sections": [],
   "name": "화자인식.ipynb",
   "provenance": []
  },
  "kernelspec": {
   "display_name": "pjt",
   "language": "python",
   "name": "pjt"
  },
  "language_info": {
   "codemirror_mode": {
    "name": "ipython",
    "version": 3
   },
   "file_extension": ".py",
   "mimetype": "text/x-python",
   "name": "python",
   "nbconvert_exporter": "python",
   "pygments_lexer": "ipython3",
   "version": "3.7.9"
  }
 },
 "nbformat": 4,
 "nbformat_minor": 1
}
