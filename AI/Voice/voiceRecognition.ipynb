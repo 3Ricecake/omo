{
 "cells": [
  {
   "cell_type": "code",
   "execution_count": 1,
   "metadata": {
    "colab": {},
    "colab_type": "code",
    "id": "FU9YdmfuROkd"
   },
   "outputs": [],
   "source": [
    "import librosa\n",
    "import wave\n",
    "import matplotlib.pyplot as plt\n",
    "import numpy as np\n",
    "from sklearn.model_selection import train_test_split\n",
    "import os"
   ]
  },
  {
   "cell_type": "code",
   "execution_count": 2,
   "metadata": {
    "colab": {},
    "colab_type": "code",
    "id": "BZE33onQnELr"
   },
   "outputs": [],
   "source": [
    "DATA_PATH = (\"./data/\")\n",
    "X_train = []\n",
    "X_test = []\n",
    "Y_train = []\n",
    "Y_test = []\n",
    "total_class = 0"
   ]
  },
  {
   "cell_type": "code",
   "execution_count": 3,
   "metadata": {
    "colab": {},
    "colab_type": "code",
    "id": "eSetyRMsnP__"
   },
   "outputs": [],
   "source": [
    "def load_wave_generator(path): \n",
    "       \n",
    "    batch_waves = []\n",
    "    labels = []\n",
    "    X_data = []\n",
    "    Y_label = []    \n",
    "    global X_train, X_test, Y_train, Y_test, total_class\n",
    "    \n",
    "    folders = os.listdir(path)\n",
    "\n",
    "    for folder in folders:\n",
    "        if not os.path.isdir(path):continue #폴더가 아니면 continue                   \n",
    "        files = os.listdir(path+\"/\"+folder)        \n",
    "        #폴더 이름과 그 폴더에 속하는 파일 갯수 출력\n",
    "        for wav in files:\n",
    "            if not wav.endswith(\".wav\"):continue\n",
    "            else:               \n",
    "                #print(\"Filename :\",wav)#.wav 파일이 아니면 continue\n",
    "                y, sr = librosa.load(path+\"/\"+folder+\"/\"+wav)\n",
    "                mfcc = librosa.feature.mfcc(y=y, sr=sr, n_mfcc=13, hop_length=int(sr*0.01),n_fft=int(sr*0.02)).T\n",
    "              \n",
    "                X_data.extend(mfcc)\n",
    "               # print(len(mfcc))\n",
    "                \n",
    "                label = [0 for i in range(len(folders))]\n",
    "                label[total_class] = 1\n",
    "                \n",
    "                for i in range(len(mfcc)):\n",
    "                    Y_label.append(label)\n",
    "                #print(Y_label)\n",
    "        total_class = total_class+1\n",
    "    #end loop\n",
    "#     print(\"X_data :\",np.shape(X_data))\n",
    "#     print(\"Y_label :\",np.shape(Y_label))\n",
    "    X_train, X_test, Y_train, Y_test = train_test_split(np.array(X_data), np.array(Y_label))\n",
    "\n",
    "    xy = (X_train, X_test, Y_train, Y_test)\n",
    "    np.save(\"./data.npy\",xy)\n"
   ]
  },
  {
   "cell_type": "code",
   "execution_count": 4,
   "metadata": {
    "colab": {
     "base_uri": "https://localhost:8080/",
     "height": 251.0
    },
    "colab_type": "code",
    "id": "0LZUxL0xROkr",
    "outputId": "3cfceda4-224d-4b4c-927e-acd715c3320f",
    "scrolled": true
   },
   "outputs": [
    {
     "name": "stdout",
     "output_type": "stream",
     "text": [
      "7 개의 클래스\n"
     ]
    }
   ],
   "source": [
    "load_wave_generator(DATA_PATH)\n",
    "\n",
    "print(total_class,\"개의 클래스\")"
   ]
  },
  {
   "cell_type": "code",
   "execution_count": 5,
   "metadata": {},
   "outputs": [],
   "source": [
    "from sklearn.model_selection import train_test_split"
   ]
  },
  {
   "cell_type": "code",
   "execution_count": 6,
   "metadata": {},
   "outputs": [
    {
     "name": "stdout",
     "output_type": "stream",
     "text": [
      "X_train : (52296, 13)\n",
      "Y_train : (52296, 7)\n",
      "X_test : (13946, 13)\n",
      "Y_test : (13946, 7)\n",
      "X_val : (3486, 13)\n",
      "Y_val : (3486, 7)\n"
     ]
    }
   ],
   "source": [
    "X_val, X_test, Y_val, Y_test = train_test_split(X_test,Y_test,test_size = 0.8, random_state = 1)\n",
    "\n",
    "\n",
    "print(\"X_train :\",np.shape(X_train))\n",
    "print(\"Y_train :\",np.shape(Y_train))\n",
    "print(\"X_test :\",np.shape(X_test))\n",
    "print(\"Y_test :\",np.shape(Y_test))\n",
    "print(\"X_val :\",np.shape(X_val))\n",
    "print(\"Y_val :\",np.shape(Y_val))"
   ]
  },
  {
   "cell_type": "code",
   "execution_count": 7,
   "metadata": {
    "colab": {
     "base_uri": "https://localhost:8080/",
     "height": 1000.0
    },
    "colab_type": "code",
    "id": "neHIhweMROkt",
    "outputId": "2e1bc0fa-70b8-4ea9-a986-ff3b4fc28450",
    "scrolled": true
   },
   "outputs": [],
   "source": [
    "from keras.models import Sequential, load_model\n",
    "from keras.layers import Dense, Dropout\n",
    "from keras.optimizers import Adam"
   ]
  },
  {
   "cell_type": "code",
   "execution_count": 8,
   "metadata": {},
   "outputs": [],
   "source": [
    "np.random.seed(777)\n",
    "\n",
    "model = Sequential()\n",
    "\n",
    "model.add(Dense(256,input_shape=(13,), activation = 'relu'))\n",
    "\n",
    "model.add(Dense(512, activation = 'relu'))\n",
    "model.add(Dropout(0.5))\n",
    "\n",
    "model.add(Dense(256,activation = 'relu'))\n",
    "model.add(Dropout(0.4))\n",
    "\n",
    "model.add(Dense(128, activation = 'relu'))\n",
    "model.add(Dropout(0.4))\n",
    "\n",
    "model.add(Dense(64,activation = 'relu'))\n",
    "model.add(Dropout(0.3))\n",
    "\n",
    "model.add(Dense(32,activation = 'relu'))\n",
    "model.add(Dropout(0.3))\n",
    "\n",
    "model.add(Dense(total_class,activation='softmax'))"
   ]
  },
  {
   "cell_type": "code",
   "execution_count": 9,
   "metadata": {
    "scrolled": true
   },
   "outputs": [
    {
     "name": "stdout",
     "output_type": "stream",
     "text": [
      "Model: \"sequential\"\n",
      "_________________________________________________________________\n",
      "Layer (type)                 Output Shape              Param #   \n",
      "=================================================================\n",
      "dense (Dense)                (None, 256)               3584      \n",
      "_________________________________________________________________\n",
      "dense_1 (Dense)              (None, 512)               131584    \n",
      "_________________________________________________________________\n",
      "dropout (Dropout)            (None, 512)               0         \n",
      "_________________________________________________________________\n",
      "dense_2 (Dense)              (None, 256)               131328    \n",
      "_________________________________________________________________\n",
      "dropout_1 (Dropout)          (None, 256)               0         \n",
      "_________________________________________________________________\n",
      "dense_3 (Dense)              (None, 128)               32896     \n",
      "_________________________________________________________________\n",
      "dropout_2 (Dropout)          (None, 128)               0         \n",
      "_________________________________________________________________\n",
      "dense_4 (Dense)              (None, 64)                8256      \n",
      "_________________________________________________________________\n",
      "dropout_3 (Dropout)          (None, 64)                0         \n",
      "_________________________________________________________________\n",
      "dense_5 (Dense)              (None, 32)                2080      \n",
      "_________________________________________________________________\n",
      "dropout_4 (Dropout)          (None, 32)                0         \n",
      "_________________________________________________________________\n",
      "dense_6 (Dense)              (None, 7)                 231       \n",
      "=================================================================\n",
      "Total params: 309,959\n",
      "Trainable params: 309,959\n",
      "Non-trainable params: 0\n",
      "_________________________________________________________________\n",
      "Epoch 1/35\n",
      "1635/1635 [==============================] - 5s 3ms/step - loss: 0.5690 - accuracy: 0.1630 - val_loss: 0.4061 - val_accuracy: 0.1836\n",
      "Epoch 2/35\n",
      "1635/1635 [==============================] - 4s 3ms/step - loss: 0.3923 - accuracy: 0.2306 - val_loss: 0.3751 - val_accuracy: 0.3067\n",
      "Epoch 3/35\n",
      "1635/1635 [==============================] - 4s 2ms/step - loss: 0.3603 - accuracy: 0.3518 - val_loss: 0.3075 - val_accuracy: 0.5169\n",
      "Epoch 4/35\n",
      "1635/1635 [==============================] - 5s 3ms/step - loss: 0.3038 - accuracy: 0.4937 - val_loss: 0.2701 - val_accuracy: 0.5688\n",
      "Epoch 5/35\n",
      "1635/1635 [==============================] - 5s 3ms/step - loss: 0.2757 - accuracy: 0.5571 - val_loss: 0.2465 - val_accuracy: 0.6234\n",
      "Epoch 6/35\n",
      "1635/1635 [==============================] - 5s 3ms/step - loss: 0.2575 - accuracy: 0.5979 - val_loss: 0.2283 - val_accuracy: 0.6509\n",
      "Epoch 7/35\n",
      "1635/1635 [==============================] - 6s 3ms/step - loss: 0.2445 - accuracy: 0.6339 - val_loss: 0.2151 - val_accuracy: 0.6882\n",
      "Epoch 8/35\n",
      "1635/1635 [==============================] - 4s 2ms/step - loss: 0.2320 - accuracy: 0.6609 - val_loss: 0.1957 - val_accuracy: 0.7203\n",
      "Epoch 9/35\n",
      "1635/1635 [==============================] - 4s 2ms/step - loss: 0.2233 - accuracy: 0.6775 - val_loss: 0.1878 - val_accuracy: 0.7381\n",
      "Epoch 10/35\n",
      "1635/1635 [==============================] - 4s 3ms/step - loss: 0.2188 - accuracy: 0.6895 - val_loss: 0.1829 - val_accuracy: 0.7453\n",
      "Epoch 11/35\n",
      "1635/1635 [==============================] - 5s 3ms/step - loss: 0.2118 - accuracy: 0.7002 - val_loss: 0.1817 - val_accuracy: 0.7464\n",
      "Epoch 12/35\n",
      "1635/1635 [==============================] - 4s 2ms/step - loss: 0.2080 - accuracy: 0.7094 - val_loss: 0.1788 - val_accuracy: 0.7567\n",
      "Epoch 13/35\n",
      "1635/1635 [==============================] - 5s 3ms/step - loss: 0.2035 - accuracy: 0.7191 - val_loss: 0.1748 - val_accuracy: 0.7662\n",
      "Epoch 14/35\n",
      "1635/1635 [==============================] - 4s 3ms/step - loss: 0.2000 - accuracy: 0.7223 - val_loss: 0.1690 - val_accuracy: 0.7653\n",
      "Epoch 15/35\n",
      "1635/1635 [==============================] - 4s 2ms/step - loss: 0.1982 - accuracy: 0.7254 - val_loss: 0.1722 - val_accuracy: 0.7691\n",
      "Epoch 16/35\n",
      "1635/1635 [==============================] - 5s 3ms/step - loss: 0.1953 - accuracy: 0.7311 - val_loss: 0.1639 - val_accuracy: 0.7785\n",
      "Epoch 17/35\n",
      "1635/1635 [==============================] - 4s 3ms/step - loss: 0.1926 - accuracy: 0.7367 - val_loss: 0.1702 - val_accuracy: 0.7714\n",
      "Epoch 18/35\n",
      "1635/1635 [==============================] - 5s 3ms/step - loss: 0.1918 - accuracy: 0.7393 - val_loss: 0.1745 - val_accuracy: 0.7648\n",
      "Epoch 19/35\n",
      "1635/1635 [==============================] - 5s 3ms/step - loss: 0.1899 - accuracy: 0.7403 - val_loss: 0.1742 - val_accuracy: 0.7648\n",
      "Epoch 20/35\n",
      "1635/1635 [==============================] - 4s 2ms/step - loss: 0.1878 - accuracy: 0.7439 - val_loss: 0.1669 - val_accuracy: 0.7794\n",
      "Epoch 21/35\n",
      "1635/1635 [==============================] - 6s 3ms/step - loss: 0.1858 - accuracy: 0.7505 - val_loss: 0.1631 - val_accuracy: 0.7742\n",
      "Epoch 22/35\n",
      "1635/1635 [==============================] - 5s 3ms/step - loss: 0.1849 - accuracy: 0.7486 - val_loss: 0.1612 - val_accuracy: 0.7863\n",
      "Epoch 23/35\n",
      "1635/1635 [==============================] - 5s 3ms/step - loss: 0.1849 - accuracy: 0.7503 - val_loss: 0.1587 - val_accuracy: 0.7883\n",
      "Epoch 24/35\n",
      "1635/1635 [==============================] - 5s 3ms/step - loss: 0.1835 - accuracy: 0.7527 - val_loss: 0.1672 - val_accuracy: 0.7771\n",
      "Epoch 25/35\n",
      "1635/1635 [==============================] - 4s 3ms/step - loss: 0.1817 - accuracy: 0.7549 - val_loss: 0.1832 - val_accuracy: 0.7504\n",
      "Epoch 26/35\n",
      "1635/1635 [==============================] - 5s 3ms/step - loss: 0.1838 - accuracy: 0.7534 - val_loss: 0.1635 - val_accuracy: 0.7823\n",
      "Epoch 27/35\n",
      "1635/1635 [==============================] - 5s 3ms/step - loss: 0.1819 - accuracy: 0.7557 - val_loss: 0.1605 - val_accuracy: 0.7871\n",
      "Epoch 28/35\n",
      "1635/1635 [==============================] - 5s 3ms/step - loss: 0.1816 - accuracy: 0.7576 - val_loss: 0.1671 - val_accuracy: 0.7828\n",
      "Epoch 29/35\n",
      "1635/1635 [==============================] - 5s 3ms/step - loss: 0.1809 - accuracy: 0.7593 - val_loss: 0.1644 - val_accuracy: 0.7800\n",
      "Epoch 30/35\n",
      "1635/1635 [==============================] - 4s 2ms/step - loss: 0.1805 - accuracy: 0.7571 - val_loss: 0.1603 - val_accuracy: 0.7880\n",
      "Epoch 31/35\n",
      "1635/1635 [==============================] - 5s 3ms/step - loss: 0.1806 - accuracy: 0.7570 - val_loss: 0.1643 - val_accuracy: 0.7797\n",
      "Epoch 32/35\n",
      "1635/1635 [==============================] - 5s 3ms/step - loss: 0.1787 - accuracy: 0.7641 - val_loss: 0.1580 - val_accuracy: 0.7972\n",
      "Epoch 33/35\n",
      "1635/1635 [==============================] - 5s 3ms/step - loss: 0.1785 - accuracy: 0.7624 - val_loss: 0.1606 - val_accuracy: 0.7860\n",
      "Epoch 34/35\n",
      "1635/1635 [==============================] - 5s 3ms/step - loss: 0.1782 - accuracy: 0.7624 - val_loss: 0.1557 - val_accuracy: 0.7897\n",
      "Epoch 35/35\n",
      "1635/1635 [==============================] - 4s 3ms/step - loss: 0.1761 - accuracy: 0.7632 - val_loss: 0.1600 - val_accuracy: 0.7943\n"
     ]
    }
   ],
   "source": [
    "model.compile(loss='binary_crossentropy',optimizer = 'Adam',metrics=['accuracy'])\n",
    "model.summary()\n",
    "trained_model = model.fit(X_train, Y_train,\n",
    "          batch_size=32,\n",
    "          epochs=35,\n",
    "          validation_data=(X_val, Y_val),\n",
    "          shuffle=True)"
   ]
  },
  {
   "cell_type": "code",
   "execution_count": 10,
   "metadata": {
    "colab": {
     "base_uri": "https://localhost:8080/",
     "height": 35.0
    },
    "colab_type": "code",
    "id": "pCnSi3TyROky",
    "outputId": "6ec355c7-f356-47d5-aec6-95a437d13bee"
   },
   "outputs": [],
   "source": [
    "model.save_weights(\"model0915.h5\")"
   ]
  },
  {
   "cell_type": "code",
   "execution_count": 11,
   "metadata": {},
   "outputs": [],
   "source": [
    "model.load_weights(\"model0915.h5\")"
   ]
  },
  {
   "cell_type": "code",
   "execution_count": 12,
   "metadata": {},
   "outputs": [
    {
     "name": "stdout",
     "output_type": "stream",
     "text": [
      "436/436 [==============================] - 1s 1ms/step - loss: 0.1600 - accuracy: 0.7881\n"
     ]
    }
   ],
   "source": [
    "res = model.evaluate(X_test, Y_test)"
   ]
  },
  {
   "cell_type": "code",
   "execution_count": 18,
   "metadata": {
    "colab": {
     "base_uri": "https://localhost:8080/",
     "height": 215.0
    },
    "colab_type": "code",
    "id": "xAUmFVmEROk0",
    "outputId": "75d97241-425b-4cd6-a3f5-1e26fa550e93",
    "scrolled": true
   },
   "outputs": [],
   "source": [
    "y, sr = librosa.load(os.path.join(\"./test_청하.wav\"))\n",
    "\n",
    "X_test = librosa.feature.mfcc(y=y, sr=sr, n_mfcc=13, hop_length=int(sr*0.01),n_fft=int(sr*0.02)).T\n",
    "\n",
    "output = model.predict(X_test, steps =1)"
   ]
  },
  {
   "cell_type": "code",
   "execution_count": 19,
   "metadata": {},
   "outputs": [
    {
     "name": "stdout",
     "output_type": "stream",
     "text": [
      "result :  5\n"
     ]
    }
   ],
   "source": [
    "'''\n",
    "0 유인나\n",
    "1 배철수\n",
    "2 이재은\n",
    "3 최일구\n",
    "4 문재인 대통령\n",
    "5 청하\n",
    "6 정국\n",
    "'''\n",
    "\n",
    "res = np.sum(output, axis = 0)/np.sum(output)*100\n",
    "\n",
    "if np.max(res) > 50 :\n",
    "    print(\"result : \",np.argmax(res))\n",
    "else :\n",
    "    print(\"no result\")\n",
    "    print(res)"
   ]
  },
  {
   "cell_type": "code",
   "execution_count": null,
   "metadata": {},
   "outputs": [],
   "source": []
  }
 ],
 "metadata": {
  "accelerator": "GPU",
  "colab": {
   "collapsed_sections": [],
   "name": "화자인식.ipynb",
   "provenance": []
  },
  "kernelspec": {
   "display_name": "pjt",
   "language": "python",
   "name": "pjt"
  },
  "language_info": {
   "codemirror_mode": {
    "name": "ipython",
    "version": 3
   },
   "file_extension": ".py",
   "mimetype": "text/x-python",
   "name": "python",
   "nbconvert_exporter": "python",
   "pygments_lexer": "ipython3",
   "version": "3.7.9"
  }
 },
 "nbformat": 4,
 "nbformat_minor": 1
}
